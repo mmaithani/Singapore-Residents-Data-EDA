{
  "nbformat": 4,
  "nbformat_minor": 0,
  "metadata": {
    "colab": {
      "name": "geoIQ data analysis solution - Mohitmaithani81@gmail.com.ipynb",
      "provenance": [],
      "private_outputs": true,
      "authorship_tag": "ABX9TyP91lkw7mo2s29GqZLT6eGJ",
      "include_colab_link": true
    },
    "kernelspec": {
      "name": "python3",
      "display_name": "Python 3"
    },
    "accelerator": "GPU"
  },
  "cells": [
    {
      "cell_type": "markdown",
      "metadata": {
        "id": "view-in-github",
        "colab_type": "text"
      },
      "source": [
        "<a href=\"https://colab.research.google.com/github/mmaithani/Singapore-Residents-Data-EDA/blob/master/3%20plottly.ipynb\" target=\"_parent\"><img src=\"https://colab.research.google.com/assets/colab-badge.svg\" alt=\"Open In Colab\"/></a>"
      ]
    },
    {
      "cell_type": "markdown",
      "metadata": {
        "id": "inw8O6TAitsV",
        "colab_type": "text"
      },
      "source": [
        "# Data analysis on Singapore Residents Data\n",
        "\n",
        "\n",
        "*   Data cleaning (openRefine)\n",
        "*   Data exploratory analysis\n",
        "\n",
        "## **Part 1** - The data contains Population by *ethnicity, age and gender* for the country of Singapore from the year 1957 to 2018. \n",
        "1. Identify the largest Ethnic group in Singapore. Their average population growth over the\n",
        "years and what proportion of the total population do they constitute.\n",
        "2. Identify the largest age group in Singapore. Their average population growth over the\n",
        "years and what proportion of the total population do they constitute.\n",
        "3. Identify the group (by age, ethnicity and gender) that:\n",
        "\n",
        "  a. Has shown the highest growth rate\n",
        "\n",
        "  b. Has shown the lowest growth rate\n",
        "\n",
        "  c. Has remained the same\n",
        "4. Plot a graph for population trends\n"
      ]
    },
    {
      "cell_type": "markdown",
      "metadata": {
        "id": "HPccaBt7jt_o",
        "colab_type": "text"
      },
      "source": [
        "## Import Modules"
      ]
    },
    {
      "cell_type": "code",
      "metadata": {
        "id": "wvvCIraoT0R1",
        "colab_type": "code",
        "colab": {}
      },
      "source": [
        "import pandas as pd\n",
        "import seaborn as sns\n",
        "import matplotlib.pyplot as plt\n",
        "%matplotlib inline\n",
        "import pandas as pd\n",
        "import requests\n",
        "from io import StringIO"
      ],
      "execution_count": null,
      "outputs": []
    },
    {
      "cell_type": "markdown",
      "metadata": {
        "id": "JJwZ-V-BjmLa",
        "colab_type": "text"
      },
      "source": [
        "## Reading Data from link"
      ]
    },
    {
      "cell_type": "code",
      "metadata": {
        "id": "B6ZVNJAmUKOn",
        "colab_type": "code",
        "colab": {}
      },
      "source": [
        "orig_url='https://drive.google.com/file/d/1KJi-KZYMcuWIO4dwXS8P8eBNUP7LDk8U/view?usp=sharing'\n",
        "file_id = orig_url.split('/')[-2]\n",
        "dwn_url='https://drive.google.com/uc?export=download&id=' + file_id\n",
        "url = requests.get(dwn_url).text\n",
        "csv_raw = StringIO(url)\n",
        "data = pd.read_csv(csv_raw)"
      ],
      "execution_count": null,
      "outputs": []
    },
    {
      "cell_type": "markdown",
      "metadata": {
        "id": "YQQvRkCXj1rU",
        "colab_type": "text"
      },
      "source": [
        "**changing column names**"
      ]
    },
    {
      "cell_type": "code",
      "metadata": {
        "id": "9pVkMhi6g4nu",
        "colab_type": "code",
        "colab": {}
      },
      "source": [
        "data.columns= ['year','ethnicity group/gender', 'age', 'population']"
      ],
      "execution_count": null,
      "outputs": []
    },
    {
      "cell_type": "markdown",
      "metadata": {
        "id": "0y9kMiDOkIeL",
        "colab_type": "text"
      },
      "source": [
        "**No null values**"
      ]
    },
    {
      "cell_type": "code",
      "metadata": {
        "id": "Yz384g7kkHLV",
        "colab_type": "code",
        "colab": {}
      },
      "source": [
        "data.info()"
      ],
      "execution_count": null,
      "outputs": []
    },
    {
      "cell_type": "code",
      "metadata": {
        "id": "BP4AdzSlU_k0",
        "colab_type": "code",
        "colab": {}
      },
      "source": [
        "data.tail()"
      ],
      "execution_count": null,
      "outputs": []
    },
    {
      "cell_type": "markdown",
      "metadata": {
        "id": "vCrmfMBV3Jtc",
        "colab_type": "text"
      },
      "source": [
        "*every ethnicity category is of count 1364*"
      ]
    },
    {
      "cell_type": "code",
      "metadata": {
        "id": "VieoZfM8kqm_",
        "colab_type": "code",
        "colab": {}
      },
      "source": [
        "data['ethnicity group/gender'].unique()"
      ],
      "execution_count": null,
      "outputs": []
    },
    {
      "cell_type": "code",
      "metadata": {
        "id": "_qUy7HMSmief",
        "colab_type": "code",
        "colab": {}
      },
      "source": [
        "data['age'].unique()"
      ],
      "execution_count": null,
      "outputs": []
    },
    {
      "cell_type": "markdown",
      "metadata": {
        "id": "RbcCT0HApLON",
        "colab_type": "text"
      },
      "source": [
        "## Data is not in good shape to do EDA\n",
        "So we first clean it with openRefine then do further analysis"
      ]
    },
    {
      "cell_type": "markdown",
      "metadata": {
        "id": "1Uhg80x7pe-c",
        "colab_type": "text"
      },
      "source": [
        "*exporting data ---*"
      ]
    },
    {
      "cell_type": "code",
      "metadata": {
        "id": "whtagr6Wn9bx",
        "colab_type": "code",
        "colab": {}
      },
      "source": [
        "# data.to_csv(\"raw.csv\")"
      ],
      "execution_count": null,
      "outputs": []
    },
    {
      "cell_type": "markdown",
      "metadata": {
        "id": "ZOxTP0cWKvuR",
        "colab_type": "text"
      },
      "source": [
        "## Cleaned data "
      ]
    },
    {
      "cell_type": "markdown",
      "metadata": {
        "id": "ughjQGYwLZ9I",
        "colab_type": "text"
      },
      "source": [
        "## 1. largest ethnic group\n",
        "##  - > \"Chinese ethnicity group\" are the largest in singapore"
      ]
    },
    {
      "cell_type": "code",
      "metadata": {
        "id": "PpXav5bsLQ7_",
        "colab_type": "code",
        "colab": {}
      },
      "source": [
        "plt.figure(figsize=(10,6))    #old plot\n",
        "sns.barplot(x='ethnicity group', y='population',hue= 'gender',data=data2)"
      ],
      "execution_count": null,
      "outputs": []
    },
    {
      "cell_type": "code",
      "metadata": {
        "id": "HJHMG-dFUsfo",
        "colab_type": "code",
        "colab": {}
      },
      "source": [
        "data2 = pd.read_csv('/content/singapore-residents-data (2).csv')\n",
        "pd.to_numeric(data2['population']) #changing population datatype to int \n",
        "pd.to_numeric(data2['year'])"
      ],
      "execution_count": null,
      "outputs": []
    },
    {
      "cell_type": "code",
      "metadata": {
        "id": "jPaORXroFniu",
        "colab_type": "code",
        "colab": {}
      },
      "source": [
        "plt.figure(figsize=(10,6))\n",
        "sns.barplot(x='ethnicity group', y='population',hue= 'gender',data=data2)\n",
        "plt.figtext(.25,.8,'chinese are the largest',fontsize=13,ha='center')"
      ],
      "execution_count": null,
      "outputs": []
    },
    {
      "cell_type": "markdown",
      "metadata": {
        "id": "Vw0JPFAsYR-8",
        "colab_type": "text"
      },
      "source": [
        "## Over the years chinese ethnicity group population *is* continously increasing"
      ]
    },
    {
      "cell_type": "code",
      "metadata": {
        "id": "f9suo9KkMnfj",
        "colab_type": "code",
        "colab": {}
      },
      "source": [
        "plt.figure(figsize=(50,11))\n",
        "sns.barplot(x='year', y='population',data=data2)"
      ],
      "execution_count": null,
      "outputs": []
    },
    {
      "cell_type": "code",
      "metadata": {
        "id": "FB6Jxi5Ss53m",
        "colab_type": "code",
        "colab": {}
      },
      "source": [
        "plt.figure(figsize=(40,10))\n",
        "sns.barplot(x='year', y='population',hue='ethnicity group',data=data2)"
      ],
      "execution_count": null,
      "outputs": []
    },
    {
      "cell_type": "code",
      "metadata": {
        "id": "B8aVFh3uV4so",
        "colab_type": "code",
        "colab": {}
      },
      "source": [
        "plt.figure(figsize=(30,6))\n",
        "sns.lineplot(x='year', y='population',hue='ethnicity group',markers=True, dashes=False, data=data2)"
      ],
      "execution_count": null,
      "outputs": []
    },
    {
      "cell_type": "markdown",
      "metadata": {
        "id": "yYgcAI8WwHhS",
        "colab_type": "text"
      },
      "source": [
        "#what proportion of the total population do they constitute -\n",
        "##**- > chinese recent(2018) total population by combining all age groups is:3975586**"
      ]
    },
    {
      "cell_type": "code",
      "metadata": {
        "id": "7_MEYDNv9S_5",
        "colab_type": "code",
        "colab": {}
      },
      "source": [
        "# using first dataset where we have total ethnicity groups \n",
        "data.tail()\n",
        "data['ethnicity group/gender'].unique()"
      ],
      "execution_count": null,
      "outputs": []
    },
    {
      "cell_type": "markdown",
      "metadata": {
        "id": "WMgLvNcVD5Pm",
        "colab_type": "text"
      },
      "source": [
        "**selecting object grouped on multiple columns**\n",
        "* extracting data where year is 2018 , total chinese population \n",
        "\n"
      ]
    },
    {
      "cell_type": "code",
      "metadata": {
        "id": "dih0Q590tMXe",
        "colab_type": "code",
        "colab": {}
      },
      "source": [
        "g=data.groupby(['year','ethnicity group/gender'],sort=True)\n",
        "# g.last()"
      ],
      "execution_count": null,
      "outputs": []
    },
    {
      "cell_type": "code",
      "metadata": {
        "id": "MzvvxqcV1bem",
        "colab_type": "code",
        "colab": {}
      },
      "source": [
        "temp =g.get_group((2018,'Total Chinese'))\n",
        "temp"
      ],
      "execution_count": null,
      "outputs": []
    },
    {
      "cell_type": "code",
      "metadata": {
        "id": "7rJ0LqrG-S5y",
        "colab_type": "code",
        "colab": {}
      },
      "source": [
        "pd.to_numeric(temp['population']).sum()"
      ],
      "execution_count": null,
      "outputs": []
    },
    {
      "cell_type": "code",
      "metadata": {
        "id": "lpOLAwt9TLPm",
        "colab_type": "code",
        "colab": {}
      },
      "source": [
        "import plotly.express as px\n",
        "# data_canada = px.data.gapminder().query(\"country == 'Canada'\")\n",
        "fig = px.bar(data, x='ethnicity group/gender', y='population')\n",
        "fig.show()"
      ],
      "execution_count": null,
      "outputs": []
    },
    {
      "cell_type": "markdown",
      "metadata": {
        "id": "qEACjp2TtH6U",
        "colab_type": "text"
      },
      "source": [
        "Identify the group (by age, ethnicity and gender) that:\n",
        "\n",
        "a. Has shown the highest growth rate\n",
        "\n",
        "b. Has shown the lowest growth rate\n",
        "\n",
        "c. Has remained the same\n",
        "\n",
        "Plot a graph for population trends"
      ]
    },
    {
      "cell_type": "code",
      "metadata": {
        "id": "Nt2mEV9sp6qo",
        "colab_type": "code",
        "colab": {}
      },
      "source": [
        "pd.to_numeric(temp['population']).sum()"
      ],
      "execution_count": null,
      "outputs": []
    },
    {
      "cell_type": "markdown",
      "metadata": {
        "id": "CvGkLyj8LhU5",
        "colab_type": "text"
      },
      "source": [
        "# 2. Identify the largest age group in Singapore. Their average population growth over the years and what proportion of the total population do they constitute."
      ]
    },
    {
      "cell_type": "code",
      "metadata": {
        "id": "FbU21FcPHMeh",
        "colab_type": "code",
        "colab": {}
      },
      "source": [
        "data2.head()   "
      ],
      "execution_count": null,
      "outputs": []
    },
    {
      "cell_type": "markdown",
      "metadata": {
        "id": "qcjnmMFBNH_m",
        "colab_type": "text"
      },
      "source": [
        "20147\n",
        "2018\n",
        "Total Residents\n",
        "65 Years & Over\n",
        "547854"
      ]
    },
    {
      "cell_type": "code",
      "metadata": {
        "id": "VdGC6LquMKSH",
        "colab_type": "code",
        "colab": {}
      },
      "source": [
        "import plotly.express as px\n",
        "# data_canada = px.data.gapminder().query(\"country == 'Canada'\")\n",
        "fig = px.bar(data, x='age', y='population')\n",
        "fig.show()"
      ],
      "execution_count": null,
      "outputs": []
    },
    {
      "cell_type": "code",
      "metadata": {
        "id": "bOhEXyzQQszN",
        "colab_type": "code",
        "colab": {}
      },
      "source": [
        "import plotly.graph_objects as go\n",
        "\n",
        "x = ['age']\n",
        "y = ['population']\n",
        "\n",
        "# Use the hovertext kw argument for hover text\n",
        "fig = go.Figure(data=[go.Bar(x=x, y=y,\n",
        "            hovertext=['27% market share', '24% market share', '19% market share'])])\n",
        "# Customize aspect\n",
        "fig.update_traces(marker_color='rgb(158,202,225)', marker_line_color='rgb(8,48,107)',\n",
        "                  marker_line_width=1.5, opacity=0.6)\n",
        "fig.update_layout(title_text='January 2013 Sales Report')\n",
        "fig.show()"
      ],
      "execution_count": null,
      "outputs": []
    }
  ]
}