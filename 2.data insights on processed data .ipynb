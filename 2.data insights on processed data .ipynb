{
  "nbformat": 4,
  "nbformat_minor": 0,
  "metadata": {
    "colab": {
      "name": "geoIQ data analysis solution - Mohitmaithani81@gmail.com.ipynb",
      "provenance": [],
      "private_outputs": true,
      "authorship_tag": "ABX9TyMCYCn++MTDHEtRjJsNvGLJ",
      "include_colab_link": true
    },
    "kernelspec": {
      "name": "python3",
      "display_name": "Python 3"
    }
  },
  "cells": [
    {
      "cell_type": "markdown",
      "metadata": {
        "id": "view-in-github",
        "colab_type": "text"
      },
      "source": [
        "<a href=\"https://colab.research.google.com/github/mmaithani/Singapore-Residents-Data-EDA/blob/master/2.data%20insights%20on%20processed%20data%20.ipynb\" target=\"_parent\"><img src=\"https://colab.research.google.com/assets/colab-badge.svg\" alt=\"Open In Colab\"/></a>"
      ]
    },
    {
      "cell_type": "markdown",
      "metadata": {
        "id": "inw8O6TAitsV",
        "colab_type": "text"
      },
      "source": [
        "# Data analysis on Singapore Residents Data\n",
        "\n",
        "\n",
        "*   Data cleaning (openRefine)\n",
        "*   Data exploratory analysis\n",
        "\n",
        "## **Part 1** - The data contains Population by *ethnicity, age and gender* for the country of Singapore from the year 1957 to 2018. \n",
        "1. Identify the largest Ethnic group in Singapore. Their average population growth over the\n",
        "years and what proportion of the total population do they constitute.\n",
        "2. Identify the largest age group in Singapore. Their average population growth over the\n",
        "years and what proportion of the total population do they constitute.\n",
        "3. Identify the group (by age, ethnicity and gender) that:\n",
        "\n",
        "  a. Has shown the highest growth rate\n",
        "\n",
        "  b. Has shown the lowest growth rate\n",
        "\n",
        "  c. Has remained the same\n",
        "4. Plot a graph for population trends\n"
      ]
    },
    {
      "cell_type": "markdown",
      "metadata": {
        "id": "lzbqNDBEv_KI",
        "colab_type": "text"
      },
      "source": [
        "1. largest population ethninc group in singapore - chinese\n",
        "\n",
        "  average population growth\n",
        "  there total population\n",
        "2. 65-85 age groups are most\n"
      ]
    },
    {
      "cell_type": "markdown",
      "metadata": {
        "id": "HPccaBt7jt_o",
        "colab_type": "text"
      },
      "source": [
        "## Import Modules"
      ]
    },
    {
      "cell_type": "code",
      "metadata": {
        "id": "wvvCIraoT0R1",
        "colab_type": "code",
        "colab": {}
      },
      "source": [
        "import pandas as pd\n",
        "import seaborn as sns\n",
        "import matplotlib.pyplot as plt\n",
        "%matplotlib inline\n",
        "import pandas as pd\n",
        "import requests\n",
        "from io import StringIO"
      ],
      "execution_count": null,
      "outputs": []
    },
    {
      "cell_type": "markdown",
      "metadata": {
        "id": "JJwZ-V-BjmLa",
        "colab_type": "text"
      },
      "source": [
        "## Reading Data from link"
      ]
    },
    {
      "cell_type": "code",
      "metadata": {
        "id": "B6ZVNJAmUKOn",
        "colab_type": "code",
        "colab": {}
      },
      "source": [
        "orig_url='https://drive.google.com/file/d/1KJi-KZYMcuWIO4dwXS8P8eBNUP7LDk8U/view?usp=sharing'\n",
        "file_id = orig_url.split('/')[-2]\n",
        "dwn_url='https://drive.google.com/uc?export=download&id=' + file_id\n",
        "url = requests.get(dwn_url).text\n",
        "csv_raw = StringIO(url)\n",
        "data = pd.read_csv(csv_raw)"
      ],
      "execution_count": null,
      "outputs": []
    },
    {
      "cell_type": "markdown",
      "metadata": {
        "id": "YQQvRkCXj1rU",
        "colab_type": "text"
      },
      "source": [
        "**changing column names**"
      ]
    },
    {
      "cell_type": "code",
      "metadata": {
        "id": "9pVkMhi6g4nu",
        "colab_type": "code",
        "colab": {}
      },
      "source": [
        "data.columns= ['year','ethnicity group/gender', 'age', 'population']"
      ],
      "execution_count": null,
      "outputs": []
    },
    {
      "cell_type": "markdown",
      "metadata": {
        "id": "0y9kMiDOkIeL",
        "colab_type": "text"
      },
      "source": [
        "**No null values**"
      ]
    },
    {
      "cell_type": "code",
      "metadata": {
        "id": "Yz384g7kkHLV",
        "colab_type": "code",
        "colab": {}
      },
      "source": [
        "data.info()"
      ],
      "execution_count": null,
      "outputs": []
    },
    {
      "cell_type": "code",
      "metadata": {
        "id": "BP4AdzSlU_k0",
        "colab_type": "code",
        "colab": {}
      },
      "source": [
        "data.tail()"
      ],
      "execution_count": null,
      "outputs": []
    },
    {
      "cell_type": "markdown",
      "metadata": {
        "id": "vCrmfMBV3Jtc",
        "colab_type": "text"
      },
      "source": [
        "*every ethnicity category is of count 1364*"
      ]
    },
    {
      "cell_type": "code",
      "metadata": {
        "id": "VieoZfM8kqm_",
        "colab_type": "code",
        "colab": {}
      },
      "source": [
        "data['ethnicity group/gender'].unique()"
      ],
      "execution_count": null,
      "outputs": []
    },
    {
      "cell_type": "code",
      "metadata": {
        "id": "_qUy7HMSmief",
        "colab_type": "code",
        "colab": {}
      },
      "source": [
        "data['age'].unique()"
      ],
      "execution_count": null,
      "outputs": []
    },
    {
      "cell_type": "markdown",
      "metadata": {
        "id": "RbcCT0HApLON",
        "colab_type": "text"
      },
      "source": [
        "## Data is not in good shape to do EDA\n",
        "So we first clean it with openRefine then do further analysis"
      ]
    },
    {
      "cell_type": "markdown",
      "metadata": {
        "id": "1Uhg80x7pe-c",
        "colab_type": "text"
      },
      "source": [
        "*exporting data ---*"
      ]
    },
    {
      "cell_type": "code",
      "metadata": {
        "id": "whtagr6Wn9bx",
        "colab_type": "code",
        "colab": {}
      },
      "source": [
        "# data.to_csv(\"raw.csv\")"
      ],
      "execution_count": null,
      "outputs": []
    },
    {
      "cell_type": "markdown",
      "metadata": {
        "id": "ZOxTP0cWKvuR",
        "colab_type": "text"
      },
      "source": [
        "## Cleaned data "
      ]
    },
    {
      "cell_type": "code",
      "metadata": {
        "id": "s_jmUnz9pq-o",
        "colab_type": "code",
        "colab": {}
      },
      "source": [
        "data1= pd.read_csv('/content/singapore-residents-data (1).csv')"
      ],
      "execution_count": null,
      "outputs": []
    },
    {
      "cell_type": "code",
      "metadata": {
        "id": "Yzcp-9eKLOp5",
        "colab_type": "code",
        "colab": {}
      },
      "source": [
        "data1.head()"
      ],
      "execution_count": null,
      "outputs": []
    },
    {
      "cell_type": "code",
      "metadata": {
        "id": "ugVq4gydLls1",
        "colab_type": "code",
        "colab": {}
      },
      "source": [
        "print(data1[\"ethnicity group\"].unique(),'\\n')\n",
        "data1[\"gender\"].unique()"
      ],
      "execution_count": null,
      "outputs": []
    },
    {
      "cell_type": "markdown",
      "metadata": {
        "id": "ughjQGYwLZ9I",
        "colab_type": "text"
      },
      "source": [
        "## 1. largest ethnic group\n",
        "##  - > \"Chinese ethnicity group\" are the largest in singapore"
      ]
    },
    {
      "cell_type": "code",
      "metadata": {
        "id": "PpXav5bsLQ7_",
        "colab_type": "code",
        "colab": {}
      },
      "source": [
        "plt.figure(figsize=(10,6))\n",
        "sns.barplot(x='ethnicity group', y='population',hue= 'gender',data=data1)"
      ],
      "execution_count": null,
      "outputs": []
    },
    {
      "cell_type": "code",
      "metadata": {
        "id": "kjVG3ht1Y3Zl",
        "colab_type": "code",
        "colab": {}
      },
      "source": [
        "plt.figure(figsize=(10,6))\n",
        "sns.barplot(x='ethnicity group', y='population',hue= 'gender',data=data2)"
      ],
      "execution_count": null,
      "outputs": []
    },
    {
      "cell_type": "code",
      "metadata": {
        "id": "HJHMG-dFUsfo",
        "colab_type": "code",
        "colab": {}
      },
      "source": [
        "data2 = pd.read_csv('/content/singapore-residents-data (2).csv')"
      ],
      "execution_count": null,
      "outputs": []
    },
    {
      "cell_type": "code",
      "metadata": {
        "id": "_JfNTCddXmZQ",
        "colab_type": "code",
        "colab": {}
      },
      "source": [
        "data2.head()"
      ],
      "execution_count": null,
      "outputs": []
    },
    {
      "cell_type": "markdown",
      "metadata": {
        "id": "Vw0JPFAsYR-8",
        "colab_type": "text"
      },
      "source": [
        "### over the years chinese ethnicity group population in continously increasing"
      ]
    },
    {
      "cell_type": "code",
      "metadata": {
        "id": "f9suo9KkMnfj",
        "colab_type": "code",
        "colab": {}
      },
      "source": [
        "plt.figure(figsize=(50,12))\n",
        "sns.lineplot(x='year', y='population',hue='ethnicity group',markers=True, dashes=False,data=data2)"
      ],
      "execution_count": null,
      "outputs": []
    },
    {
      "cell_type": "code",
      "metadata": {
        "id": "B8aVFh3uV4so",
        "colab_type": "code",
        "colab": {}
      },
      "source": [
        ""
      ],
      "execution_count": null,
      "outputs": []
    }
  ]
}